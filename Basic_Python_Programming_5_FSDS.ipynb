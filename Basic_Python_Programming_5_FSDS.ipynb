{
 "cells": [
  {
   "cell_type": "markdown",
   "id": "e3a5fc8b",
   "metadata": {},
   "source": [
    "# 1. Write a Python Program to Find LCM?\n",
    "\n",
    "ANSWER-"
   ]
  },
  {
   "cell_type": "code",
   "execution_count": 1,
   "id": "8a4d3835",
   "metadata": {},
   "outputs": [
    {
     "name": "stdout",
     "output_type": "stream",
     "text": [
      "enter a number: 12\n",
      "enter a number: 4\n",
      "The LCM of 12,4 is 12\n"
     ]
    }
   ],
   "source": [
    "def find_LCM(Number1,Number2):\n",
    "    if Number1>Number2:\n",
    "        greater=Number1\n",
    "    else:\n",
    "        greater=Number2\n",
    "    while True:\n",
    "        if((greater%Number1==0)and(greater%Number2==0)):\n",
    "            Lcm=greater\n",
    "            break\n",
    "        else:\n",
    "            greater+=1\n",
    "    print(f\"The LCM of {Number1},{Number2} is {Lcm}\")\n",
    "    \n",
    "n1=int(input(\"enter a number: \"))\n",
    "n2=int(input(\"enter a number: \"))\n",
    "find_LCM(n1,n2)\n",
    "    "
   ]
  },
  {
   "cell_type": "markdown",
   "id": "10f95b22",
   "metadata": {},
   "source": [
    "# 2. Write a Python Program to Find HCF?\n",
    "\n",
    "ANSWER-"
   ]
  },
  {
   "cell_type": "code",
   "execution_count": 3,
   "id": "9a4452a8",
   "metadata": {},
   "outputs": [
    {
     "name": "stdout",
     "output_type": "stream",
     "text": [
      "enter a number: 199\n",
      "enter a number: 39\n",
      "The HCF of 199 and 39 is 1\n"
     ]
    }
   ],
   "source": [
    "def find_HCF(Number1,Number2):\n",
    "    if Number1>Number2:\n",
    "        smaller=Number2\n",
    "    else:\n",
    "        smaller=Number1\n",
    "    for i in range(1,smaller+1):\n",
    "        if(Number1%i==0)and(Number2%i==0):\n",
    "            HCF=i\n",
    "    print(f\"The HCF of {Number1} and {Number2} is {HCF}\")\n",
    "n1=int(input(\"enter a number: \"))\n",
    "n2=int(input(\"enter a number: \"))\n",
    "find_HCF(n1,n2)\n",
    "    "
   ]
  },
  {
   "cell_type": "markdown",
   "id": "3c538f3d",
   "metadata": {},
   "source": [
    "# 3. Write a Python Program to Convert Decimal to Binary, Octal and Hexadecimal?\n",
    "\n",
    "ANSWER-"
   ]
  },
  {
   "cell_type": "code",
   "execution_count": 7,
   "id": "b66e08ea",
   "metadata": {},
   "outputs": [
    {
     "name": "stdout",
     "output_type": "stream",
     "text": [
      "enter a number: 13\n",
      "Binary Number 0b1101\n",
      "Octal Number 0o15\n",
      "Hexadecimal Number 0xd\n"
     ]
    }
   ],
   "source": [
    "def Conversion():\n",
    "    num=int(input(\"enter a number: \"))\n",
    "    print(f\"Binary Number {bin(num)}\")\n",
    "    print(f\"Octal Number {oct(num)}\")\n",
    "    print(f\"Hexadecimal Number {hex(num)}\")\n",
    "    \n",
    "Conversion()    "
   ]
  },
  {
   "cell_type": "markdown",
   "id": "c03d3113",
   "metadata": {},
   "source": [
    "# 4. Write a Python Program To Find ASCII value of a character?\n",
    "\n",
    "ANSWER-"
   ]
  },
  {
   "cell_type": "code",
   "execution_count": 13,
   "id": "70d37f6f",
   "metadata": {},
   "outputs": [
    {
     "name": "stdout",
     "output_type": "stream",
     "text": [
      "enter a character: $\n",
      "The entered character $ is 36\n"
     ]
    }
   ],
   "source": [
    "def CharToAscii():\n",
    "    char=input(\"enter a character: \")\n",
    "    if len(char)>1:\n",
    "        print(\"Enter a single Character:\")\n",
    "    else:\n",
    "        print(f\"The entered character {char} is {ord(char)}\")\n",
    "        \n",
    "CharToAscii()        \n",
    "        \n",
    "        \n",
    "    "
   ]
  },
  {
   "cell_type": "markdown",
   "id": "19ca7e24",
   "metadata": {},
   "source": [
    "# 5. Write a Python Program to Make a Simple Calculator with 4 basic mathematical operations?\n",
    "\n",
    "ANSWER-"
   ]
  },
  {
   "cell_type": "code",
   "execution_count": 16,
   "id": "ad4aebe4",
   "metadata": {},
   "outputs": [
    {
     "name": "stdout",
     "output_type": "stream",
     "text": [
      "Select Operation: \n",
      "1->Add \n",
      "2->Subtract \n",
      "3->Multiply \n",
      "4->Division \n",
      "Enter choice(1/2/3/4): 1\n",
      "enter a first number 2\n",
      "enter a second number 4\n",
      "2.0 + 4.0 = 6.0\n",
      "Let's do next calculation?(yes/no): yes\n",
      "Enter choice(1/2/3/4): 6\n",
      "Invalid Input\n",
      "Enter choice(1/2/3/4): 4\n",
      "enter a first number 4\n",
      "enter a second number 2\n",
      "4.0 / 2.0 = 2.0\n",
      "Let's do next calculation?(yes/no): no\n"
     ]
    }
   ],
   "source": [
    "def add(a,b):\n",
    "    return a+b\n",
    "def sub(a,b):\n",
    "    return a-b\n",
    "def mul(a,b):\n",
    "    return a*b\n",
    "def div(a,b):\n",
    "    return a/b\n",
    "\n",
    "print(\"Select Operation: \")\n",
    "print(\"1->Add \")\n",
    "print(\"2->Subtract \")\n",
    "print(\"3->Multiply \")\n",
    "print(\"4->Division \")\n",
    "\n",
    "while True:\n",
    "    choice=input(\"Enter choice(1/2/3/4): \")\n",
    "    if choice in ('1','2','3','4'):\n",
    "        num1=float(input(\"enter a first number \"))\n",
    "        num2=float(input(\"enter a second number \"))\n",
    "        \n",
    "        if choice=='1':\n",
    "            print(num1,\"+\",num2,\"=\",add(num1,num2))\n",
    "            \n",
    "        elif choice=='2':\n",
    "            print(num1,\"-\",num2,\"=\",sub(num1,num2))\n",
    "        \n",
    "        elif choice=='3':\n",
    "            print(num1,\"X\",num2,\"=\",mul(num1,num2))\n",
    "            \n",
    "        elif choice=='4':\n",
    "            print(num1,\"/\",num2,\"=\",div(num1,num2))\n",
    "    \n",
    "    \n",
    "        next_calculation=input(\"Let's do next calculation?(yes/no): \")\n",
    "        if next_calculation==\"no\":\n",
    "            break\n",
    "    else:\n",
    "        print(\"Invalid Input\")"
   ]
  },
  {
   "cell_type": "code",
   "execution_count": null,
   "id": "5f4aaa39",
   "metadata": {},
   "outputs": [],
   "source": []
  }
 ],
 "metadata": {
  "kernelspec": {
   "display_name": "Python 3 (ipykernel)",
   "language": "python",
   "name": "python3"
  },
  "language_info": {
   "codemirror_mode": {
    "name": "ipython",
    "version": 3
   },
   "file_extension": ".py",
   "mimetype": "text/x-python",
   "name": "python",
   "nbconvert_exporter": "python",
   "pygments_lexer": "ipython3",
   "version": "3.9.12"
  }
 },
 "nbformat": 4,
 "nbformat_minor": 5
}
